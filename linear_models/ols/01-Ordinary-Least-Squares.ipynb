{
 "cells": [
  {
   "cell_type": "code",
   "execution_count": 19,
   "metadata": {},
   "outputs": [
    {
     "name": "stdout",
     "output_type": "stream",
     "text": [
      "mean_absolute_error (train) =  42.58150286469087\n",
      "mean_absolute_error (test) =  49.52943032546134\n",
      "mean_squared_error (train) =  2792.2748450151744\n",
      "mean_squared_error (test) =  3583.641005831011\n"
     ]
    }
   ],
   "source": [
    "from sklearn.datasets import load_diabetes\n",
    "from sklearn.linear_model import LinearRegression\n",
    "from sklearn.model_selection import train_test_split\n",
    "from sklearn.metrics import mean_absolute_error, mean_squared_error\n",
    "\n",
    "\n",
    "model_skl = LinearRegression()\n",
    "data = load_diabetes()\n",
    "X,y = data['data'], data['target']\n",
    "\n",
    "X_tr, X_ts, y_tr, y_ts = train_test_split(X,y, test_size=0.1)\n",
    "\n",
    "model_skl.fit(X_tr, y_tr)\n",
    "\n",
    "\n",
    "yp_tr = model_skl.predict(X_tr)\n",
    "yp_ts = model_skl.predict(X_ts)\n",
    "\n",
    "mae_tr = mean_absolute_error(y_tr, yp_tr)\n",
    "mae_ts = mean_absolute_error(y_ts, yp_ts)\n",
    "\n",
    "mse_tr = mean_squared_error(y_tr, yp_tr)\n",
    "mse_ts = mean_squared_error(y_ts, yp_ts)\n",
    "\n",
    "print(f'mean_absolute_error (train) = ', mae_tr)\n",
    "print(f'mean_absolute_error (test) = ', mae_ts)\n",
    "print(f'mean_squared_error (train) = ', mse_tr)\n",
    "print(f'mean_squared_error (test) = ', mse_ts)\n"
   ]
  },
  {
   "cell_type": "markdown",
   "metadata": {},
   "source": [
    "### Ordinary Least Squares\n",
    "\n",
    "We aim to minimize the following:\n",
    "\n",
    "$\\underset{w}{min}  || Xw - y  ||^2_2$"
   ]
  },
  {
   "cell_type": "code",
   "execution_count": 37,
   "metadata": {},
   "outputs": [
    {
     "data": {
      "text/plain": [
       "Array([[0.68842983, 0.6349189 , 0.5514072 , ..., 0.7141757 , 0.7775229 ,\n",
       "        0.9108833 ],\n",
       "       [0.5065378 , 0.9319916 , 0.4177115 , ..., 0.5091853 , 0.0412364 ,\n",
       "        0.8537271 ],\n",
       "       [0.819216  , 0.32981408, 0.77336264, ..., 0.68158305, 0.2845446 ,\n",
       "        0.20979393],\n",
       "       ...,\n",
       "       [0.755849  , 0.8738791 , 0.10128927, ..., 0.7318649 , 0.16407311,\n",
       "        0.48635995],\n",
       "       [0.3691144 , 0.12325811, 0.43423176, ..., 0.35124767, 0.8821726 ,\n",
       "        0.8462212 ],\n",
       "       [0.74026585, 0.02841198, 0.02599502, ..., 0.53718305, 0.87090695,\n",
       "        0.14787889]], dtype=float32)"
      ]
     },
     "execution_count": 37,
     "metadata": {},
     "output_type": "execute_result"
    }
   ],
   "source": [
    "import jax\n",
    "from jax import random\n",
    "import jax.numpy as jnp\n",
    "\n",
    "key = random.PRNGKey(42)\n",
    "random.uniform(key, (42,42))"
   ]
  },
  {
   "cell_type": "code",
   "execution_count": null,
   "metadata": {},
   "outputs": [],
   "source": [
    "import jax\n",
    "from jax import random\n",
    "import jax.numpy as jnp\n",
    "\n",
    "class LinearRegressionJax:\n",
    "\n",
    "    def __init__():\n",
    "        pass\n",
    "\n",
    "    def fit(X: jnp.array,\n",
    "            y: jnp.array) -> self:\n",
    "        \n",
    "        self.coef = jn\n",
    "\n",
    "    def predict(X):\n",
    "        pass"
   ]
  },
  {
   "cell_type": "code",
   "execution_count": 28,
   "metadata": {},
   "outputs": [
    {
     "data": {
      "text/plain": [
       "Array([ 0,  1,  4,  9, 16, 25, 36, 49, 64, 81], dtype=int32)"
      ]
     },
     "execution_count": 28,
     "metadata": {},
     "output_type": "execute_result"
    }
   ],
   "source": [
    "jnp.arange(10) ** 2"
   ]
  },
  {
   "cell_type": "code",
   "execution_count": 29,
   "metadata": {},
   "outputs": [
    {
     "data": {
      "text/plain": [
       "Array([ 0,  1,  4,  9, 16, 25, 36, 49, 64, 81], dtype=int32)"
      ]
     },
     "execution_count": 29,
     "metadata": {},
     "output_type": "execute_result"
    }
   ],
   "source": [
    "jnp.arange(10) * jnp.arange(10).T"
   ]
  },
  {
   "cell_type": "code",
   "execution_count": null,
   "metadata": {},
   "outputs": [],
   "source": []
  }
 ],
 "metadata": {
  "kernelspec": {
   "display_name": "ml",
   "language": "python",
   "name": "python3"
  },
  "language_info": {
   "codemirror_mode": {
    "name": "ipython",
    "version": 3
   },
   "file_extension": ".py",
   "mimetype": "text/x-python",
   "name": "python",
   "nbconvert_exporter": "python",
   "pygments_lexer": "ipython3",
   "version": "3.8.12"
  },
  "orig_nbformat": 4
 },
 "nbformat": 4,
 "nbformat_minor": 2
}
